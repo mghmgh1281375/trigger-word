{
 "cells": [
  {
   "cell_type": "code",
   "execution_count": 7,
   "metadata": {
    "colab": {
     "base_uri": "https://localhost:8080/",
     "height": 84
    },
    "colab_type": "code",
    "executionInfo": {
     "elapsed": 8857,
     "status": "ok",
     "timestamp": 1545590875118,
     "user": {
      "displayName": "Mohammad Ghorbani",
      "photoUrl": "https://lh5.googleusercontent.com/-jgHSWdCInLY/AAAAAAAAAAI/AAAAAAAAIg4/G1KWugIcB4A/s64/photo.jpg",
      "userId": "14567744580567243199"
     },
     "user_tz": -210
    },
    "id": "mjQP0nwwYeNt",
    "outputId": "f1f72927-c1f8-4215-b901-fec7359eefc9"
   },
   "outputs": [
    {
     "name": "stdout",
     "output_type": "stream",
     "text": [
      "Collecting pydub\n",
      "  Downloading https://files.pythonhosted.org/packages/2f/73/bb9c093882d647437a9e6e87c7e6592d2df852f83ffac6f348b878979be0/pydub-0.23.0-py2.py3-none-any.whl\n",
      "Installing collected packages: pydub\n",
      "Successfully installed pydub-0.23.0\n"
     ]
    }
   ],
   "source": [
    "# ! git clone https://github.com/mghmgh1281375/trigger-word.git\n",
    "# ! cat trigger-word/ZIPCHUNKS* > raw_data.zip\n",
    "# ! unzip raw_data.zip\n",
    "# ! ls\n",
    "! pip install pydub"
   ]
  },
  {
   "cell_type": "code",
   "execution_count": null,
   "metadata": {},
   "outputs": [],
   "source": [
    "import matplotlib.pyplot as plt\n",
    "from scipy.io import wavfile\n",
    "import sys, os, io\n",
    "import numpy as np\n",
    "from pydub import AudioSegment\n",
    "import random\n",
    "import glob\n",
    "import IPython\n",
    "import time\n",
    "from tqdm import tqdm\n",
    "%matplotlib inline"
   ]
  },
  {
   "cell_type": "code",
   "execution_count": 7,
   "metadata": {
    "colab": {},
    "colab_type": "code",
    "id": "omVkL2LvYbot"
   },
   "outputs": [],
   "source": [
    "# Calculate and plot spectrogram for a wav audio file\n",
    "def graph_spectrogram(wav_file):\n",
    "    rate, data = get_wav_info(wav_file)\n",
    "    nfft = 200 # Length of each window segment\n",
    "    fs = 8000 # Sampling frequencies\n",
    "    noverlap = 120 # Overlap between windows\n",
    "    nchannels = data.ndim\n",
    "    if nchannels == 1:\n",
    "        pxx, freqs, bins, im = plt.specgram(data, nfft, fs, noverlap = noverlap)\n",
    "    elif nchannels == 2:\n",
    "        pxx, freqs, bins, im = plt.specgram(data[:,0], nfft, fs, noverlap = noverlap)\n",
    "    return pxx\n",
    "\n",
    "# Load a wav file\n",
    "def get_wav_info(wav_file):\n",
    "    rate, data = wavfile.read(wav_file)\n",
    "    return rate, data\n",
    "\n",
    "# Used to standardize volume of audio clip\n",
    "def match_target_amplitude(sound, target_dBFS):\n",
    "    change_in_dBFS = target_dBFS - sound.dBFS\n",
    "    return sound.apply_gain(change_in_dBFS)\n",
    "\n",
    "# Load raw audio files for speech synthesis\n",
    "def load_raw_audio():\n",
    "    activates = []\n",
    "    backgrounds = []\n",
    "    negatives = []\n",
    "    for filename in os.listdir(\"raw_data/activates\"):\n",
    "        if filename.endswith(\"wav\"):\n",
    "            activate = AudioSegment.from_wav(\"raw_data/activates/\"+filename)\n",
    "            activates.append(activate)\n",
    "    for filename in os.listdir(\"raw_data/backgrounds\"):\n",
    "        if filename.endswith(\"wav\"):\n",
    "            background = AudioSegment.from_wav(\"raw_data/backgrounds/\"+filename)\n",
    "            backgrounds.append(background)\n",
    "    for filename in os.listdir(\"raw_data/negatives\"):\n",
    "        if filename.endswith(\"wav\"):\n",
    "            negative = AudioSegment.from_wav(\"raw_data/negatives/\"+filename)\n",
    "            negatives.append(negative)\n",
    "    return activates, negatives, backgrounds"
   ]
  },
  {
   "cell_type": "code",
   "execution_count": 8,
   "metadata": {
    "colab": {},
    "colab_type": "code",
    "id": "x5VRI3BdYbo2"
   },
   "outputs": [],
   "source": []
  },
  {
   "cell_type": "code",
   "execution_count": 9,
   "metadata": {
    "colab": {},
    "colab_type": "code",
    "id": "ylnaHK_ZYbo8"
   },
   "outputs": [],
   "source": [
    "Tx = 5511 # The number of time steps input to the model from the spectrogram\n",
    "n_freq = 101 # Number of frequencies input to the model at each time step of the spectrogram"
   ]
  },
  {
   "cell_type": "code",
   "execution_count": 10,
   "metadata": {
    "colab": {},
    "colab_type": "code",
    "id": "DV-PgedIYbpC"
   },
   "outputs": [],
   "source": [
    "Ty = 1375 # The number of time steps in the output of our model"
   ]
  },
  {
   "cell_type": "code",
   "execution_count": 11,
   "metadata": {
    "colab": {
     "base_uri": "https://localhost:8080/",
     "height": 67
    },
    "colab_type": "code",
    "executionInfo": {
     "elapsed": 7257,
     "status": "ok",
     "timestamp": 1545592838492,
     "user": {
      "displayName": "Mohammad Ghorbani",
      "photoUrl": "https://lh5.googleusercontent.com/-jgHSWdCInLY/AAAAAAAAAAI/AAAAAAAAIg4/G1KWugIcB4A/s64/photo.jpg",
      "userId": "14567744580567243199"
     },
     "user_tz": -210
    },
    "id": "XCtv4oLnYbpI",
    "outputId": "9ade1b7d-6796-44e1-f418-44a6eb2657c9"
   },
   "outputs": [
    {
     "name": "stdout",
     "output_type": "stream",
     "text": [
      "background len: 10005\n",
      "activate[0] len: 1602\n",
      "activate[1] len: 3510\n"
     ]
    }
   ],
   "source": [
    "# Load audio segments using pydub \n",
    "activates, negatives, backgrounds = load_raw_audio()\n",
    "\n",
    "print(\"background len: \" + str(len(backgrounds[0])))    # Should be 10,000, since it is a 10 sec clip\n",
    "print(\"activate[0] len: \" + str(len(activates[0])))     # Maybe around 1000, since an \"activate\" audio clip is usually around 1 sec (but varies a lot)\n",
    "print(\"activate[1] len: \" + str(len(activates[1])))     # Different \"activate\" clips can have different lengths "
   ]
  },
  {
   "cell_type": "markdown",
   "metadata": {
    "colab_type": "text",
    "id": "hyOu9hxvYbpN"
   },
   "source": [
    "The function `get_random_time_segment(segment_ms)` returns a random time segment onto which we can insert an audio clip of duration `segment_ms`. Read through the code to make sure you understand what it is doing. \n"
   ]
  },
  {
   "cell_type": "code",
   "execution_count": 12,
   "metadata": {
    "colab": {},
    "colab_type": "code",
    "id": "48ADuyhnYbpQ"
   },
   "outputs": [],
   "source": [
    "def get_random_time_segment(segment_ms):\n",
    "    \"\"\"\n",
    "    Gets a random time segment of duration segment_ms in a 10,000 ms audio clip.\n",
    "    \n",
    "    Arguments:\n",
    "    segment_ms -- the duration of the audio clip in ms (\"ms\" stands for \"milliseconds\")\n",
    "    \n",
    "    Returns:\n",
    "    segment_time -- a tuple of (segment_start, segment_end) in ms\n",
    "    \"\"\"\n",
    "    \n",
    "    segment_start = np.random.randint(low=0, high=10000-segment_ms)   # Make sure segment doesn't run past the 10sec background \n",
    "    segment_end = segment_start + segment_ms - 1\n",
    "    \n",
    "    return (segment_start, segment_end)"
   ]
  },
  {
   "cell_type": "code",
   "execution_count": 13,
   "metadata": {
    "colab": {},
    "colab_type": "code",
    "id": "_vcrqmUTYbpW"
   },
   "outputs": [],
   "source": [
    "def is_overlapping(segment_time, previous_segments):\n",
    "    \"\"\"\n",
    "    Checks if the time of a segment overlaps with the times of existing segments.\n",
    "    \n",
    "    Arguments:\n",
    "    segment_time -- a tuple of (segment_start, segment_end) for the new segment\n",
    "    previous_segments -- a list of tuples of (segment_start, segment_end) for the existing segments\n",
    "    \n",
    "    Returns:\n",
    "    True if the time segment overlaps with any of the existing segments, False otherwise\n",
    "    \"\"\"\n",
    "    \n",
    "    segment_start, segment_end = segment_time\n",
    "    \n",
    "    # Step 1: Initialize overlap as a \"False\" flag.\n",
    "    overlap = False\n",
    "    \n",
    "    # Step 2: loop over the previous_segments start and end times.\n",
    "    # Compare start/end times and set the flag to True if there is an overlap\n",
    "    for previous_start, previous_end in previous_segments:\n",
    "        if segment_start <= previous_end and segment_end >= previous_start:\n",
    "            overlap = True\n",
    "\n",
    "    return overlap"
   ]
  },
  {
   "cell_type": "code",
   "execution_count": 15,
   "metadata": {
    "colab": {},
    "colab_type": "code",
    "id": "MfbwdsSrYbph"
   },
   "outputs": [],
   "source": [
    "def insert_audio_clip(background, audio_clip, previous_segments):\n",
    "    \"\"\"\n",
    "    Insert a new audio segment over the background noise at a random time step, ensuring that the \n",
    "    audio segment does not overlap with existing segments.\n",
    "    \n",
    "    Arguments:\n",
    "    background -- a 10 second background audio recording.  \n",
    "    audio_clip -- the audio clip to be inserted/overlaid. \n",
    "    previous_segments -- times where audio segments have already been placed\n",
    "    \n",
    "    Returns:\n",
    "    new_background -- the updated background audio\n",
    "    \"\"\"\n",
    "    \n",
    "    # Get the duration of the audio clip in ms\n",
    "    segment_ms = len(audio_clip)\n",
    "    \n",
    "    # Step 1: Use one of the helper functions to pick a random time segment onto which to insert \n",
    "    # the new audio clip. \n",
    "    segment_time = get_random_time_segment(segment_ms)\n",
    "    _try = 0\n",
    "    # Step 2: Check if the new segment_time overlaps with one of the previous_segments. If so, keep \n",
    "    # picking new segment_time at random until it doesn't overlap. \n",
    "    while is_overlapping(segment_time, previous_segments):\n",
    "        segment_time = get_random_time_segment(segment_ms)\n",
    "        _try += 1\n",
    "        if _try == 5:\n",
    "            break\n",
    "\n",
    "    # Step 3: Add the new segment_time to the list of previous_segments \n",
    "    previous_segments.append(segment_time)\n",
    "    \n",
    "    # Step 4: Superpose audio segment and background\n",
    "    new_background = background.overlay(audio_clip, position = segment_time[0])\n",
    "    \n",
    "    return new_background, segment_time"
   ]
  },
  {
   "cell_type": "code",
   "execution_count": 16,
   "metadata": {
    "colab": {},
    "colab_type": "code",
    "id": "T2UCQ-rDYbpn"
   },
   "outputs": [],
   "source": [
    "# np.random.seed(5)\n",
    "# audio_clip, segment_time = insert_audio_clip(backgrounds[0], activates[0], [(3790, 4400)])\n",
    "# audio_clip.export(\"insert_test.wav\", format=\"wav\")\n",
    "# print(\"Segment Time: \", segment_time)\n",
    "# IPython.display.Audio(\"insert_test.wav\")"
   ]
  },
  {
   "cell_type": "markdown",
   "metadata": {
    "colab_type": "text",
    "id": "69i0Bm3ZYbpz"
   },
   "source": [
    "Finally, implement code to update the labels $y^{\\langle t \\rangle}$, assuming you just inserted an \"activate.\" In the code below, `y` is a `(1,1375)` dimensional vector, since $T_y = 1375$. \n",
    "\n",
    "If the \"activate\" ended at time step $t$, then set $y^{\\langle t+1 \\rangle} = 1$ as well as for up to 49 additional consecutive values. However, make sure you don't run off the end of the array and try to update `y[0][1375]`, since the valid indices are `y[0][0]` through `y[0][1374]` because $T_y = 1375$. So if \"activate\" ends at step 1370, you would get only `y[0][1371] = y[0][1372] = y[0][1373] = y[0][1374] = 1`\n",
    "\n",
    "\n",
    "```\n",
    "    segment_end_y = int(segment_end_ms * Ty / 10000.0)\n",
    "```"
   ]
  },
  {
   "cell_type": "code",
   "execution_count": 18,
   "metadata": {
    "colab": {},
    "colab_type": "code",
    "id": "fv7PPl2gYbp1"
   },
   "outputs": [],
   "source": [
    "def insert_ones(y, segment_end_ms):\n",
    "    \"\"\"\n",
    "    Update the label vector y. The labels of the 50 output steps strictly after the end of the segment \n",
    "    should be set to 1. By strictly we mean that the label of segment_end_y should be 0 while, the\n",
    "    50 followinf labels should be ones.\n",
    "    \n",
    "    \n",
    "    Arguments:\n",
    "    y -- numpy array of shape (1, Ty), the labels of the training example\n",
    "    segment_end_ms -- the end time of the segment in ms\n",
    "    \n",
    "    Returns:\n",
    "    y -- updated labels\n",
    "    \"\"\"\n",
    "    \n",
    "    # duration of the background (in terms of spectrogram time-steps)\n",
    "    segment_end_y = int(segment_end_ms * Ty / 10000.0)\n",
    "    \n",
    "    # Add 1 to the correct index in the background label (y)\n",
    "    for i in range(segment_end_y+1, segment_end_y+51):\n",
    "        if i < Ty:\n",
    "            y[0, i] = 1.0\n",
    "    \n",
    "    return y"
   ]
  },
  {
   "cell_type": "markdown",
   "metadata": {
    "colab_type": "text",
    "id": "WHb8w968YbqB"
   },
   "source": [
    "Finally, you can use `insert_audio_clip` and `insert_ones` to create a new training example.\n",
    "\n",
    "**Exercise**: Implement `create_training_example()`. You will need to carry out the following steps:\n",
    "\n",
    "1. Initialize the label vector $y$ as a numpy array of zeros and shape $(1, T_y)$.\n",
    "2. Initialize the set of existing segments to an empty list.\n",
    "3. Randomly select 0 to 4 \"activate\" audio clips, and insert them onto the 10sec clip. Also insert labels at the correct position in the label vector $y$.\n",
    "4. Randomly select 0 to 2 negative audio clips, and insert them into the 10sec clip. \n"
   ]
  },
  {
   "cell_type": "markdown",
   "metadata": {
    "colab_type": "text",
    "id": "4BYBCvu7Ybql"
   },
   "source": [
    "## 1.4 - Full training set\n",
    "\n",
    "You've now implemented the code needed to generate a single training example. We used this process to generate a large training set. To save time, we've already generated a set of training examples. "
   ]
  },
  {
   "cell_type": "code",
   "execution_count": 22,
   "metadata": {
    "colab": {},
    "colab_type": "code",
    "id": "5A23xFLaYbqo"
   },
   "outputs": [],
   "source": [
    "def create_training_examples(background, activates, negatives, idx):\n",
    "    \"\"\"\n",
    "    Creates a training example with a given background, activates, and negatives.\n",
    "    \n",
    "    Arguments:\n",
    "    background -- a 10 second background audio recording\n",
    "    activates -- a list of audio segments of the word \"activate\"\n",
    "    negatives -- a list of audio segments of random words that are not \"activate\"\n",
    "    \n",
    "    Returns:\n",
    "    x -- the spectrogram of the training example\n",
    "    y -- the label at each time step of the spectrogram\n",
    "    \"\"\"\n",
    "    if os.path.exists('train{}.wav'.format(idx-1)):\n",
    "        os.remove('train{}.wav'.format(idx-1))\n",
    "    time.sleep(0.1)\n",
    "    \n",
    "    # Make background quieter\n",
    "#     background = background - 20\n",
    "\n",
    "    # Step 1: Initialize y (label vector) of zeros \n",
    "    y = np.zeros((1, Ty))\n",
    "\n",
    "    # Step 2: Initialize segment times as empty list \n",
    "    previous_segments = []\n",
    "    \n",
    "    # Select 0-4 random \"activate\" audio clips from the entire list of \"activates\" recordings\n",
    "    number_of_activates = np.random.randint(0, 5)\n",
    "    random_indices = np.random.randint(len(activates), size=number_of_activates)\n",
    "    random_activates = [activates[i] for i in random_indices]\n",
    "    \n",
    "    # Step 3: Loop over randomly selected \"activate\" clips and insert in background\n",
    "    for random_activate in random_activates:\n",
    "        # Insert the audio clip on the background\n",
    "        background, segment_time = insert_audio_clip(background, random_activate, previous_segments)\n",
    "        # Retrieve segment_start and segment_end from segment_time\n",
    "        segment_start, segment_end = segment_time\n",
    "        # Insert labels in \"y\"\n",
    "        y = insert_ones(y, segment_end)\n",
    "\n",
    "    # Select 0-2 random negatives audio recordings from the entire list of \"negatives\" recordings\n",
    "    number_of_negatives = np.random.randint(0, 3)\n",
    "    random_indices = np.random.randint(len(negatives), size=number_of_negatives)\n",
    "    random_negatives = [negatives[i] for i in random_indices]\n",
    "\n",
    "    # Step 4: Loop over randomly selected negative clips and insert in background\n",
    "    for random_negative in random_negatives:\n",
    "        # Insert the audio clip on the background \n",
    "        background, _ = insert_audio_clip(background, random_negative, previous_segments)\n",
    "    \n",
    "    # Standardize the volume of the audio clip \n",
    "    background = match_target_amplitude(background, -2.0)\n",
    "\n",
    "    # Export new training example \n",
    "    file_handle = background.export(\"train{}.wav\".format(idx), format=\"wav\")\n",
    "#     print(\"File (train{}.wav) was saved in your directory.\".format(idx))\n",
    "    \n",
    "#     Get and plot spectrogram of the new recording (background with superposition of positive and negatives)\n",
    "    x = graph_spectrogram(\"train{}.wav\".format(idx))\n",
    "    \n",
    "    return x, y"
   ]
  },
  {
   "cell_type": "code",
   "execution_count": 23,
   "metadata": {
    "colab": {
     "base_uri": "https://localhost:8080/",
     "height": 5510
    },
    "colab_type": "code",
    "executionInfo": {
     "elapsed": 656419,
     "status": "ok",
     "timestamp": 1545593963969,
     "user": {
      "displayName": "Mohammad Ghorbani",
      "photoUrl": "https://lh5.googleusercontent.com/-jgHSWdCInLY/AAAAAAAAAAI/AAAAAAAAIg4/G1KWugIcB4A/s64/photo.jpg",
      "userId": "14567744580567243199"
     },
     "user_tz": -210
    },
    "id": "tL7lfaqfYbqw",
    "outputId": "682f556b-9292-4c1f-8078-40ea1932701b"
   },
   "outputs": [
    {
     "name": "stderr",
     "output_type": "stream",
     "text": [
      "100%|██████████| 10/10 [00:22<00:00,  2.22s/it]\n"
     ]
    },
    {
     "data": {
      "image/png": "[encoded data removed]",
      "text/plain": [
       "<Figure size 432x288 with 1 Axes>"
      ]
     },
     "metadata": {
      "needs_background": "light"
     },
     "output_type": "display_data"
    }
   ],
   "source": [
    "np.random.seed(18)\n",
    "\n",
    "X, Y = [], []\n",
    "for i in tqdm(range(10)):\n",
    "    x, y = create_training_examples(backgrounds[i%len(backgrounds)], activates, negatives, i)\n",
    "    if X[i].shape[1] >= 5511:\n",
    "        X.append(np.swapaxes(X[i][:, :5511],0,1))\n",
    "        Y.append(Y[i].reshape((1375, 1)))\n",
    "\n",
    "X, Y = np.array(X), np.array(Y)\n",
    "print(X.shape)\n",
    "print(Y.shape)"
   ]
  },
  {
   "cell_type": "code",
   "execution_count": 2,
   "metadata": {
    "colab": {
     "base_uri": "https://localhost:8080/",
     "height": 50
    },
    "colab_type": "code",
    "executionInfo": {
     "elapsed": 3289,
     "status": "ok",
     "timestamp": 1545592619724,
     "user": {
      "displayName": "Mohammad Ghorbani",
      "photoUrl": "https://lh5.googleusercontent.com/-jgHSWdCInLY/AAAAAAAAAAI/AAAAAAAAIg4/G1KWugIcB4A/s64/photo.jpg",
      "userId": "14567744580567243199"
     },
     "user_tz": -210
    },
    "id": "jrLU5grtfsFc",
    "outputId": "0f443dc3-386f-436f-c6bb-7c71b03e0960"
   },
   "outputs": [
    {
     "name": "stdout",
     "output_type": "stream",
     "text": [
      "activates    negatives\t   sample_data\t train.wav     X.pickle\n",
      "backgrounds  raw_data.zip  train699.wav  trigger-word\n"
     ]
    }
   ],
   "source": [
    "# import pickle\n",
    "# pickle.dump(X, open('X.pickle', 'wb'))\n",
    "# pickle.dump(Y, open('Y.pickle', 'wb'))\n",
    "\n",
    "# ! ls -lh\n",
    "\n",
    "# from google.colab import files\n",
    "# files.download('X.pickle')\n",
    "# files.download('Y.pickle')\n",
    "# ! ls"
   ]
  },
  {
   "cell_type": "markdown",
   "metadata": {
    "colab_type": "text",
    "id": "g5kBCu3fYbq6"
   },
   "source": [
    "## 1.5 - Development set\n",
    "\n",
    "To test our model, we recorded a development set of 25 examples. While our training data is synthesized, we want to create a development set using the same distribution as the real inputs. Thus, we recorded 25 10-second audio clips of people saying \"activate\" and other random words, and labeled them by hand. We should create the dev set to be as similar as possible to the test set distribution; that's why our dev set uses real rather than synthesized audio. \n"
   ]
  },
  {
   "cell_type": "code",
   "execution_count": 0,
   "metadata": {
    "colab": {},
    "colab_type": "code",
    "id": "oIYOWNQWYbrC"
   },
   "outputs": [],
   "source": [
    "# Load preprocessed dev set examples\n",
    "X_dev = np.load(\"./XY_dev/X_dev.npy\")\n",
    "Y_dev = np.load(\"./XY_dev/Y_dev.npy\")"
   ]
  },
  {
   "cell_type": "markdown",
   "metadata": {
    "colab_type": "text",
    "id": "ik05dIbxYbrG"
   },
   "source": [
    "# 2 - Model\n",
    "\n",
    "Now that you've built a dataset, lets write and train a trigger word detection model! \n",
    "\n",
    "The model will use 1-D convolutional layers, GRU layers, and dense layers. Let's load the packages that will allow you to use these layers in Keras. This might take a minute to load. "
   ]
  },
  {
   "cell_type": "code",
   "execution_count": 17,
   "metadata": {
    "colab": {},
    "colab_type": "code",
    "id": "6laqwJmZYbrI"
   },
   "outputs": [
    {
     "name": "stderr",
     "output_type": "stream",
     "text": [
      "Using TensorFlow backend.\n"
     ]
    }
   ],
   "source": [
    "from keras.callbacks import ModelCheckpoint\n",
    "from keras.models import Model, load_model, Sequential\n",
    "from keras.layers import Dense, Activation, Dropout, Input, Masking, TimeDistributed, LSTM, Conv1D\n",
    "from keras.layers import GRU, Bidirectional, BatchNormalization, Reshape\n",
    "from keras.optimizers import Adam"
   ]
  },
  {
   "cell_type": "code",
   "execution_count": 18,
   "metadata": {
    "colab": {},
    "colab_type": "code",
    "id": "RRxONHOeYbrM"
   },
   "outputs": [],
   "source": [
    "def model(input_shape):\n",
    "    \"\"\"\n",
    "    Function creating the model's graph in Keras.\n",
    "    \n",
    "    Argument:\n",
    "    input_shape -- shape of the model's input data (using Keras conventions)\n",
    "\n",
    "    Returns:\n",
    "    model -- Keras model instance\n",
    "    \"\"\"\n",
    "    \n",
    "    X_input = Input(shape = input_shape)\n",
    "      \n",
    "    # Step 1: CONV layer\n",
    "    X = Conv1D(196, 15, strides=4)(X_input)                    # CONV1D\n",
    "    X = BatchNormalization()(X)                                # Batch normalization\n",
    "    X = Activation('relu')(X)                                  # ReLu activation\n",
    "    X = Dropout(0.8)(X)                                        # dropout (use 0.8)\n",
    "\n",
    "    # Step 2: First GRU Layer\n",
    "    X = GRU(units = 128, return_sequences=True)(X)             # GRU (use 128 units and return the sequences)\n",
    "    X = Dropout(0.8)(X)                                        # dropout (use 0.8)\n",
    "    X = BatchNormalization()(X)                                # Batch normalization\n",
    "    \n",
    "    # Step 3: Second GRU Layer\n",
    "    X = GRU(units = 128, return_sequences=True)(X)             # GRU (use 128 units and return the sequences)\n",
    "    X = Dropout(0.8)(X)                                        # dropout (use 0.8)\n",
    "    X = BatchNormalization()(X)                                # Batch normalization\n",
    "    X = Dropout(0.8)(X)                                        # dropout (use 0.8)\n",
    "    \n",
    "    # Step 4: Time-distributed dense layer\n",
    "    X = TimeDistributed(Dense(1, activation = \"sigmoid\"))(X) # time distributed  (sigmoid)\n",
    "\n",
    "    model = Model(inputs = X_input, outputs = X)\n",
    "    \n",
    "    return model  "
   ]
  },
  {
   "cell_type": "code",
   "execution_count": 19,
   "metadata": {
    "colab": {},
    "colab_type": "code",
    "id": "HnK-YsNjYbrT"
   },
   "outputs": [],
   "source": [
    "Tx = 5511 # The number of time steps input to the model from the spectrogram\n",
    "n_freq = 101 # Number of frequencies input to the model at each time step of the spectrogram\n",
    "Ty = 1375\n",
    "model = model(input_shape = (Tx, n_freq))"
   ]
  },
  {
   "cell_type": "markdown",
   "metadata": {
    "colab_type": "text",
    "id": "_wdYUWBLYbre"
   },
   "source": [
    "Let's print the model summary to keep track of the shapes."
   ]
  },
  {
   "cell_type": "code",
   "execution_count": 24,
   "metadata": {
    "colab": {
     "base_uri": "https://localhost:8080/",
     "height": 571
    },
    "colab_type": "code",
    "executionInfo": {
     "elapsed": 874,
     "status": "ok",
     "timestamp": 1545594635306,
     "user": {
      "displayName": "Mohammad Ghorbani",
      "photoUrl": "https://lh5.googleusercontent.com/-jgHSWdCInLY/AAAAAAAAAAI/AAAAAAAAIg4/G1KWugIcB4A/s64/photo.jpg",
      "userId": "14567744580567243199"
     },
     "user_tz": -210
    },
    "id": "tS5kJDCNYbrg",
    "outputId": "942d2005-b321-4dac-855c-7a634b6e4dd1"
   },
   "outputs": [],
   "source": [
    "# model.summary()"
   ]
  },
  {
   "cell_type": "markdown",
   "metadata": {
    "colab_type": "text",
    "id": "0WZH2RL2Ybrk"
   },
   "source": [
    "The output of the network is of shape (None, 1375, 1) while the input is (None, 5511, 101). The Conv1D has reduced the number of steps from 5511 at spectrogram to 1375. "
   ]
  },
  {
   "cell_type": "markdown",
   "metadata": {
    "colab_type": "text",
    "id": "N-2O8OurYbrm"
   },
   "source": [
    "## 2.2 - Fit the model"
   ]
  },
  {
   "cell_type": "markdown",
   "metadata": {
    "colab_type": "text",
    "id": "BU49dBIbYbrp"
   },
   "source": [
    "Trigger word detection takes a long time to train. To save time, we've already trained a model for about 3 hours on a GPU using the architecture you built above, and a large training set of about 4000 examples. Let's load the model. "
   ]
  },
  {
   "cell_type": "code",
   "execution_count": 0,
   "metadata": {
    "colab": {},
    "colab_type": "code",
    "id": "gMpAb0dDYbrq"
   },
   "outputs": [],
   "source": [
    "# model = load_model('./models/tr_model.h5')"
   ]
  },
  {
   "cell_type": "markdown",
   "metadata": {
    "colab_type": "text",
    "id": "fvxoYx1gYbrw"
   },
   "source": [
    "You can train the model further, using the Adam optimizer and binary cross entropy loss, as follows. This will run quickly because we are training just for one epoch and with a small training set of 26 examples. "
   ]
  },
  {
   "cell_type": "code",
   "execution_count": 21,
   "metadata": {
    "colab": {},
    "colab_type": "code",
    "id": "5k9pGqQMYbry"
   },
   "outputs": [],
   "source": [
    "opt = Adam(lr=0.0001, beta_1=0.9, beta_2=0.999, decay=0.01)\n",
    "model.compile(loss='binary_crossentropy', optimizer=opt, metrics=[\"accuracy\"])"
   ]
  },
  {
   "cell_type": "code",
   "execution_count": 41,
   "metadata": {
    "colab": {
     "base_uri": "https://localhost:8080/",
     "height": 585
    },
    "colab_type": "code",
    "executionInfo": {
     "elapsed": 1140,
     "status": "error",
     "timestamp": 1545594651077,
     "user": {
      "displayName": "Mohammad Ghorbani",
      "photoUrl": "https://lh5.googleusercontent.com/-jgHSWdCInLY/AAAAAAAAAAI/AAAAAAAAIg4/G1KWugIcB4A/s64/photo.jpg",
      "userId": "14567744580567243199"
     },
     "user_tz": -210
    },
    "id": "uXyKqwLeYbr4",
    "outputId": "18c1fc71-aa48-4b12-c7a8-1dad32a98e36"
   },
   "outputs": [
    {
     "name": "stdout",
     "output_type": "stream",
     "text": [
      "Epoch 1/2\n",
      "8/8 [==============================] - 11s 1s/step - loss: 1.3880 - acc: 0.5008\n",
      "Epoch 2/2\n",
      "8/8 [==============================] - 5s 678ms/step - loss: 1.3879 - acc: 0.5074\n"
     ]
    },
    {
     "data": {
      "text/plain": [
       "<keras.callbacks.History at 0x7f86e3148048>"
      ]
     },
     "execution_count": 41,
     "metadata": {},
     "output_type": "execute_result"
    }
   ],
   "source": [
    "model.fit(X_, Y_, batch_size = 5, epochs=2)"
   ]
  },
  {
   "cell_type": "markdown",
   "metadata": {
    "colab_type": "text",
    "id": "dKQ2IfXRYbr_"
   },
   "source": [
    "## 2.3 - Test the model\n",
    "\n",
    "Finally, let's see how your model performs on the dev set."
   ]
  },
  {
   "cell_type": "code",
   "execution_count": 0,
   "metadata": {
    "colab": {},
    "colab_type": "code",
    "id": "TwbYx3p1YbsB"
   },
   "outputs": [],
   "source": [
    "loss, acc = model.evaluate(X_dev, Y_dev)\n",
    "print(\"Dev set accuracy = \", acc)"
   ]
  },
  {
   "cell_type": "markdown",
   "metadata": {
    "colab_type": "text",
    "id": "fxCb1EVXYbsF"
   },
   "source": [
    "This looks pretty good! However, accuracy isn't a great metric for this task, since the labels are heavily skewed to 0's, so a neural network that just outputs 0's would get slightly over 90% accuracy. We could define more useful metrics such as F1 score or Precision/Recall. But let's not bother with that here, and instead just empirically see how the model does. "
   ]
  },
  {
   "cell_type": "markdown",
   "metadata": {
    "colab_type": "text",
    "id": "wJc2RWnXYbsG"
   },
   "source": [
    "# 3 - Making Predictions\n",
    "\n",
    "Now that you have built a working model for trigger word detection, let's use it to make predictions. This code snippet runs audio (saved in a wav file) through the network. \n",
    "\n",
    "<!--\n",
    "can use your model to make predictions on new audio clips.\n",
    "\n",
    "You will first need to compute the predictions for an input audio clip.\n",
    "\n",
    "**Exercise**: Implement predict_activates(). You will need to do the following:\n",
    "\n",
    "1. Compute the spectrogram for the audio file\n",
    "2. Use `np.swap` and `np.expand_dims` to reshape your input to size (1, Tx, n_freqs)\n",
    "5. Use forward propagation on your model to compute the prediction at each output step\n",
    "!-->"
   ]
  },
  {
   "cell_type": "code",
   "execution_count": 0,
   "metadata": {
    "colab": {},
    "colab_type": "code",
    "id": "NqtnW6NoYbsI"
   },
   "outputs": [],
   "source": [
    "def detect_triggerword(filename):\n",
    "    plt.subplot(2, 1, 1)\n",
    "\n",
    "    x = graph_spectrogram(filename)\n",
    "    # the spectogram outputs (freqs, Tx) and we want (Tx, freqs) to input into the model\n",
    "    x  = x.swapaxes(0,1)\n",
    "    x = np.expand_dims(x, axis=0)\n",
    "    predictions = model.predict(x)\n",
    "    \n",
    "    plt.subplot(2, 1, 2)\n",
    "    plt.plot(predictions[0,:,0])\n",
    "    plt.ylabel('probability')\n",
    "    plt.show()\n",
    "    return predictions"
   ]
  },
  {
   "cell_type": "markdown",
   "metadata": {
    "colab_type": "text",
    "id": "rGJw-wnbYbsM"
   },
   "source": [
    "Once you've estimated the probability of having detected the word \"activate\" at each output step, you can trigger a \"chiming\" sound to play when the probability is above a certain threshold. Further, $y^{\\langle t \\rangle}$ might be near 1 for many values in a row after \"activate\" is said, yet we want to chime only once. So we will insert a chime sound at most once every 75 output steps. This will help prevent us from inserting two chimes for a single instance of \"activate\". (This plays a role similar to non-max suppression from computer vision.) \n",
    "\n",
    "<!-- \n",
    "**Exercise**: Implement chime_on_activate(). You will need to do the following:\n",
    "\n",
    "1. Loop over the predicted probabilities at each output step\n",
    "2. When the prediction is larger than the threshold and more than 75 consecutive time steps have passed, insert a \"chime\" sound onto the original audio clip\n",
    "\n",
    "Use this code to convert from the 1,375 step discretization to the 10,000 step discretization and insert a \"chime\" using pydub:\n",
    "\n",
    "` audio_clip = audio_clip.overlay(chime, position = ((i / Ty) * audio.duration_seconds)*1000)\n",
    "`\n",
    "!--> "
   ]
  },
  {
   "cell_type": "code",
   "execution_count": 0,
   "metadata": {
    "colab": {},
    "colab_type": "code",
    "id": "_ryV3eybYbsO"
   },
   "outputs": [],
   "source": [
    "chime_file = \"audio_examples/chime.wav\"\n",
    "def chime_on_activate(filename, predictions, threshold):\n",
    "    audio_clip = AudioSegment.from_wav(filename)\n",
    "    chime = AudioSegment.from_wav(chime_file)\n",
    "    Ty = predictions.shape[1]\n",
    "    # Step 1: Initialize the number of consecutive output steps to 0\n",
    "    consecutive_timesteps = 0\n",
    "    # Step 2: Loop over the output steps in the y\n",
    "    for i in range(Ty):\n",
    "        # Step 3: Increment consecutive output steps\n",
    "        consecutive_timesteps += 1\n",
    "        # Step 4: If prediction is higher than the threshold and more than 75 consecutive output steps have passed\n",
    "        if predictions[0,i,0] > threshold and consecutive_timesteps > 75:\n",
    "            # Step 5: Superpose audio and background using pydub\n",
    "            audio_clip = audio_clip.overlay(chime, position = ((i / Ty) * audio_clip.duration_seconds)*1000)\n",
    "            # Step 6: Reset consecutive output steps to 0\n",
    "            consecutive_timesteps = 0\n",
    "        \n",
    "    audio_clip.export(\"chime_output.wav\", format='wav')"
   ]
  },
  {
   "cell_type": "markdown",
   "metadata": {
    "colab_type": "text",
    "id": "P5ZWckhyYbsR"
   },
   "source": [
    "## 3.3 - Test on dev examples"
   ]
  },
  {
   "cell_type": "markdown",
   "metadata": {
    "colab_type": "text",
    "id": "V-6l6EnQYbsS"
   },
   "source": [
    "Let's explore how our model performs on two unseen audio clips from the development set. Lets first listen to the two dev set clips. "
   ]
  },
  {
   "cell_type": "code",
   "execution_count": 0,
   "metadata": {
    "colab": {},
    "colab_type": "code",
    "id": "MZKaHDeaYbsV"
   },
   "outputs": [],
   "source": [
    "IPython.display.Audio(\"./raw_data/dev/1.wav\")"
   ]
  },
  {
   "cell_type": "code",
   "execution_count": 0,
   "metadata": {
    "colab": {},
    "colab_type": "code",
    "id": "D6hZbN7mYbsZ"
   },
   "outputs": [],
   "source": [
    "IPython.display.Audio(\"./raw_data/dev/2.wav\")"
   ]
  },
  {
   "cell_type": "markdown",
   "metadata": {
    "colab_type": "text",
    "id": "XG_4BRnOYbsk"
   },
   "source": [
    "Now lets run the model on these audio clips and see if it adds a chime after \"activate\"!"
   ]
  },
  {
   "cell_type": "code",
   "execution_count": 0,
   "metadata": {
    "colab": {},
    "colab_type": "code",
    "id": "W-jEz2GWYbsl"
   },
   "outputs": [],
   "source": [
    "filename = \"./raw_data/dev/1.wav\"\n",
    "prediction = detect_triggerword(filename)\n",
    "chime_on_activate(filename, prediction, 0.5)\n",
    "IPython.display.Audio(\"./chime_output.wav\")"
   ]
  },
  {
   "cell_type": "code",
   "execution_count": 0,
   "metadata": {
    "colab": {},
    "colab_type": "code",
    "id": "fQa_ldPoYbss"
   },
   "outputs": [],
   "source": [
    "filename  = \"./raw_data/dev/2.wav\"\n",
    "prediction = detect_triggerword(filename)\n",
    "chime_on_activate(filename, prediction, 0.5)\n",
    "IPython.display.Audio(\"./chime_output.wav\")"
   ]
  },
  {
   "cell_type": "markdown",
   "metadata": {
    "colab_type": "text",
    "id": "9C1cwLlCYbs0"
   },
   "source": [
    "# 4 - Try your own example! (OPTIONAL/UNGRADED)\n",
    "\n",
    "In this optional and ungraded portion of this notebook, you can try your model on your own audio clips! \n",
    "\n",
    "Record a 10 second audio clip of you saying the word \"activate\" and other random words, and upload it to the Coursera hub as `myaudio.wav`. Be sure to upload the audio as a wav file. If your audio is recorded in a different format (such as mp3) there is free software that you can find online for converting it to wav. If your audio recording is not 10 seconds, the code below will either trim or pad it as needed to make it 10 seconds. \n"
   ]
  },
  {
   "cell_type": "code",
   "execution_count": 0,
   "metadata": {
    "colab": {},
    "colab_type": "code",
    "id": "MMryffE0Ybs3"
   },
   "outputs": [],
   "source": [
    "# Preprocess the audio to the correct format\n",
    "def preprocess_audio(filename):\n",
    "    # Trim or pad audio segment to 10000ms\n",
    "    padding = AudioSegment.silent(duration=10000)\n",
    "    segment = AudioSegment.from_wav(filename)[:10000]\n",
    "    segment = padding.overlay(segment)\n",
    "    # Set frame rate to 44100\n",
    "    segment = segment.set_frame_rate(44100)\n",
    "    # Export as wav\n",
    "    segment.export(filename, format='wav')"
   ]
  },
  {
   "cell_type": "markdown",
   "metadata": {
    "colab_type": "text",
    "id": "AeNvEBUUYbs9"
   },
   "source": [
    "Once you've uploaded your audio file to Coursera, put the path to your file in the variable below."
   ]
  },
  {
   "cell_type": "code",
   "execution_count": 0,
   "metadata": {
    "colab": {},
    "colab_type": "code",
    "id": "OpJdcI8VYbs-"
   },
   "outputs": [],
   "source": [
    "your_filename = \"audio_examples/my_audio.wav\""
   ]
  },
  {
   "cell_type": "code",
   "execution_count": 0,
   "metadata": {
    "colab": {},
    "colab_type": "code",
    "id": "jrm9DLG4YbtD"
   },
   "outputs": [],
   "source": [
    "preprocess_audio(your_filename)\n",
    "IPython.display.Audio(your_filename) # listen to the audio you uploaded "
   ]
  },
  {
   "cell_type": "markdown",
   "metadata": {
    "colab_type": "text",
    "id": "-Bg5YLMuYbtH"
   },
   "source": [
    "Finally, use the model to predict when you say activate in the 10 second audio clip, and trigger a chime. If beeps are not being added appropriately, try to adjust the chime_threshold."
   ]
  },
  {
   "cell_type": "code",
   "execution_count": 0,
   "metadata": {
    "colab": {},
    "colab_type": "code",
    "id": "prsCCKXLYbtI"
   },
   "outputs": [],
   "source": [
    "chime_threshold = 0.5\n",
    "prediction = detect_triggerword(your_filename)\n",
    "chime_on_activate(your_filename, prediction, chime_threshold)\n",
    "IPython.display.Audio(\"./chime_output.wav\")"
   ]
  }
 ],
 "metadata": {
  "colab": {
   "collapsed_sections": [
    "g5kBCu3fYbq6",
    "dKQ2IfXRYbr_",
    "P5ZWckhyYbsR"
   ],
   "name": "Trigger word detection - v1.ipynb",
   "provenance": [],
   "version": "0.3.2"
  },
  "kernelspec": {
   "display_name": "Python 3",
   "language": "python",
   "name": "python3"
  },
  "language_info": {
   "codemirror_mode": {
    "name": "ipython",
    "version": 3
   },
   "file_extension": ".py",
   "mimetype": "text/x-python",
   "name": "python",
   "nbconvert_exporter": "python",
   "pygments_lexer": "ipython3",
   "version": "3.6.7"
  }
 },
 "nbformat": 4,
 "nbformat_minor": 1
}
